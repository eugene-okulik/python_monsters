{
 "cells": [
  {
   "cell_type": "code",
   "execution_count": 13,
   "metadata": {},
   "outputs": [
    {
     "name": "stdout",
     "output_type": "stream",
     "text": [
      "2023-06-19 20:32:47.936450 2023-06-19 00:00:00\n",
      "2023-06-12 20:34:13.212967\n",
      "doo weekly\n"
     ]
    }
   ],
   "source": [
    "import datetime\n",
    "\n",
    "\n",
    "now = datetime.datetime.now()\n",
    "some_date = datetime.datetime.fromisoformat('2023-06-12 20:34:13.212967')\n",
    "today_midnight = now.replace(hour=0, minute=0, second=0, microsecond=0)\n",
    "days_ago = datetime.timedelta(weeks=1)\n",
    "seven_days_ago = now - days_ago\n",
    "print(now, today_midnight)\n",
    "print(some_date)\n",
    "\n",
    "if some_date > today_midnight:\n",
    "    print('do smth')\n",
    "\n",
    "if some_date > seven_days_ago:\n",
    "    print('doo weekly')"
   ]
  },
  {
   "cell_type": "code",
   "execution_count": 21,
   "metadata": {},
   "outputs": [
    {
     "name": "stdout",
     "output_type": "stream",
     "text": [
      "True\n",
      "False\n",
      "False\n"
     ]
    }
   ],
   "source": [
    "some_date1 = datetime.datetime.fromisoformat('2023-06-12 20:34:13.212967')\n",
    "some_date2 = datetime.datetime.fromisoformat('2023-06-12 20:30:13.212967')\n",
    "\n",
    "print(some_date1 > some_date2)\n",
    "\n",
    "# print('15, April' > '15, June')\n",
    "# print('2023-04-12 20:34:13.212967' > '2023-06-12 20:30:13.212967')"
   ]
  }
 ],
 "metadata": {
  "kernelspec": {
   "display_name": "Python 3",
   "language": "python",
   "name": "python3"
  },
  "language_info": {
   "codemirror_mode": {
    "name": "ipython",
    "version": 3
   },
   "file_extension": ".py",
   "mimetype": "text/x-python",
   "name": "python",
   "nbconvert_exporter": "python",
   "pygments_lexer": "ipython3",
   "version": "3.10.6"
  },
  "orig_nbformat": 4
 },
 "nbformat": 4,
 "nbformat_minor": 2
}
