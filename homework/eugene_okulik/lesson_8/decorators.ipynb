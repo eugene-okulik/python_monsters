{
 "cells": [
  {
   "attachments": {},
   "cell_type": "markdown",
   "metadata": {},
   "source": [
    "# Decorators"
   ]
  },
  {
   "cell_type": "code",
   "execution_count": 3,
   "metadata": {},
   "outputs": [
    {
     "name": "stdout",
     "output_type": "stream",
     "text": [
      "<function my_funct at 0x7f90c8725000>\n",
      "<function my_funct at 0x7f90c8725000>\n",
      "7\n"
     ]
    }
   ],
   "source": [
    "def my_funct(x):\n",
    "    print(x + 2)\n",
    "\n",
    "print(my_funct)\n",
    "fun_name = my_funct\n",
    "print(fun_name)\n",
    "fun_name(5)"
   ]
  },
  {
   "cell_type": "code",
   "execution_count": 6,
   "metadata": {},
   "outputs": [
    {
     "name": "stdout",
     "output_type": "stream",
     "text": [
      "hello\n"
     ]
    }
   ],
   "source": [
    "def my_func2():\n",
    "\n",
    "    def hello():\n",
    "        return 'hello'\n",
    "    \n",
    "    return hello()\n",
    "\n",
    "print(my_func2())"
   ]
  },
  {
   "attachments": {},
   "cell_type": "markdown",
   "metadata": {},
   "source": [
    "Функция my_func3 возвращает тело функции hello Результат вызова функции my_func3() - тело функции hello Для того, чтобы это тело было выполнено, нужно поставить дополнительные скобки или сохранить результат работы my_func3() в переменную и обратиться к переменной как к функции (т.е. со скобками)"
   ]
  },
  {
   "cell_type": "code",
   "execution_count": 18,
   "metadata": {},
   "outputs": [
    {
     "name": "stdout",
     "output_type": "stream",
     "text": [
      "hello\n"
     ]
    }
   ],
   "source": [
    "def my_func3():\n",
    "\n",
    "    def hello():\n",
    "        return 'hello'\n",
    "    \n",
    "    return hello\n",
    "\n",
    "result = my_func3()\n",
    "print(my_func3()())"
   ]
  },
  {
   "attachments": {},
   "cell_type": "markdown",
   "metadata": {},
   "source": [
    "Мы можем передать функцию на вход другой функции в качестве аргумента. В таком случае, можно будет использовать переданную функцию (simple) внутри функции получателя (my_func4)"
   ]
  },
  {
   "cell_type": "code",
   "execution_count": 21,
   "metadata": {},
   "outputs": [
    {
     "name": "stdout",
     "output_type": "stream",
     "text": [
      "simple\n",
      "<function simple at 0x7f90c8725510>\n",
      "one\n",
      "simple\n",
      "two\n"
     ]
    }
   ],
   "source": [
    "def my_func4(func):\n",
    "    print('one')\n",
    "    func()\n",
    "    print('two')\n",
    "\n",
    "def simple():\n",
    "    print('simple')\n",
    "\n",
    "simple()\n",
    "print(simple)\n",
    "my_func4(simple)"
   ]
  },
  {
   "cell_type": "code",
   "execution_count": 28,
   "metadata": {},
   "outputs": [
    {
     "name": "stdout",
     "output_type": "stream",
     "text": [
      "<function add_text.<locals>.wrapper at 0x7f90c8724670>\n",
      "before\n",
      "simple\n",
      "after\n"
     ]
    }
   ],
   "source": [
    "def add_text(func):\n",
    "\n",
    "    def wrapper():\n",
    "        print('before')\n",
    "        func()\n",
    "        print('after')\n",
    "\n",
    "    return wrapper\n",
    "\n",
    "\n",
    "\n",
    "\n",
    "def simple():\n",
    "    print('simple')\n",
    "\n",
    "simple = add_text(simple)\n",
    "\n",
    "print(simple)\n",
    "\n",
    "simple()"
   ]
  },
  {
   "cell_type": "code",
   "execution_count": 33,
   "metadata": {},
   "outputs": [
    {
     "name": "stdout",
     "output_type": "stream",
     "text": [
      "<function add_text.<locals>.wrapper at 0x7f90c8725900>\n",
      "before\n",
      "simple\n",
      "after\n",
      "before\n",
      "4\n",
      "after\n",
      "before\n",
      "after\n",
      "3\n",
      "before\n"
     ]
    },
    {
     "ename": "TypeError",
     "evalue": "calculator() missing 2 required positional arguments: 'x' and 'y'",
     "output_type": "error",
     "traceback": [
      "\u001b[0;31m---------------------------------------------------------------------------\u001b[0m",
      "\u001b[0;31mTypeError\u001b[0m                                 Traceback (most recent call last)",
      "\u001b[0;32m/tmp/ipykernel_1387006/3429194653.py\u001b[0m in \u001b[0;36m<module>\u001b[0;34m\u001b[0m\n\u001b[1;32m     30\u001b[0m \u001b[0mcalc\u001b[0m\u001b[0;34m(\u001b[0m\u001b[0;34m)\u001b[0m\u001b[0;34m\u001b[0m\u001b[0;34m\u001b[0m\u001b[0m\n\u001b[1;32m     31\u001b[0m \u001b[0mprint\u001b[0m\u001b[0;34m(\u001b[0m\u001b[0mcalc2\u001b[0m\u001b[0;34m(\u001b[0m\u001b[0;34m)\u001b[0m\u001b[0;34m)\u001b[0m\u001b[0;34m\u001b[0m\u001b[0;34m\u001b[0m\u001b[0m\n\u001b[0;32m---> 32\u001b[0;31m \u001b[0mcalculator\u001b[0m\u001b[0;34m(\u001b[0m\u001b[0;34m)\u001b[0m\u001b[0;34m\u001b[0m\u001b[0;34m\u001b[0m\u001b[0m\n\u001b[0m",
      "\u001b[0;32m/tmp/ipykernel_1387006/3429194653.py\u001b[0m in \u001b[0;36mwrapper\u001b[0;34m()\u001b[0m\n\u001b[1;32m      3\u001b[0m     \u001b[0;32mdef\u001b[0m \u001b[0mwrapper\u001b[0m\u001b[0;34m(\u001b[0m\u001b[0;34m)\u001b[0m\u001b[0;34m:\u001b[0m\u001b[0;34m\u001b[0m\u001b[0;34m\u001b[0m\u001b[0m\n\u001b[1;32m      4\u001b[0m         \u001b[0mprint\u001b[0m\u001b[0;34m(\u001b[0m\u001b[0;34m'before'\u001b[0m\u001b[0;34m)\u001b[0m\u001b[0;34m\u001b[0m\u001b[0;34m\u001b[0m\u001b[0m\n\u001b[0;32m----> 5\u001b[0;31m         \u001b[0mx\u001b[0m \u001b[0;34m=\u001b[0m \u001b[0mfunc\u001b[0m\u001b[0;34m(\u001b[0m\u001b[0;34m)\u001b[0m\u001b[0;34m\u001b[0m\u001b[0;34m\u001b[0m\u001b[0m\n\u001b[0m\u001b[1;32m      6\u001b[0m         \u001b[0mprint\u001b[0m\u001b[0;34m(\u001b[0m\u001b[0;34m'after'\u001b[0m\u001b[0;34m)\u001b[0m\u001b[0;34m\u001b[0m\u001b[0;34m\u001b[0m\u001b[0m\n\u001b[1;32m      7\u001b[0m         \u001b[0;32mreturn\u001b[0m \u001b[0mx\u001b[0m\u001b[0;34m\u001b[0m\u001b[0;34m\u001b[0m\u001b[0m\n",
      "\u001b[0;31mTypeError\u001b[0m: calculator() missing 2 required positional arguments: 'x' and 'y'"
     ]
    }
   ],
   "source": [
    "def add_text(func):\n",
    "\n",
    "    def wrapper():\n",
    "        print('before')\n",
    "        x = func()\n",
    "        print('after')\n",
    "        return x\n",
    "\n",
    "    return wrapper\n",
    "\n",
    "@add_text\n",
    "def simple():\n",
    "    print('simple')\n",
    "\n",
    "@add_text\n",
    "def calc():\n",
    "    print(1 + 3)\n",
    "\n",
    "@add_text\n",
    "def calc2():\n",
    "    return 1 + 2\n",
    "\n",
    "@add_text\n",
    "def calculator(x, y):\n",
    "    print(x * y)\n",
    "\n",
    "print(simple)\n",
    "\n",
    "simple()\n",
    "calc()\n",
    "print(calc2())\n",
    "calculator()"
   ]
  },
  {
   "attachments": {},
   "cell_type": "markdown",
   "metadata": {},
   "source": [
    "Если в функцию нужно передать аргументы, то эти же аргументы должны быть добавлены в функцию-обертку."
   ]
  },
  {
   "cell_type": "code",
   "execution_count": 36,
   "metadata": {},
   "outputs": [
    {
     "name": "stdout",
     "output_type": "stream",
     "text": [
      "before\n",
      "2\n",
      "after\n"
     ]
    },
    {
     "ename": "TypeError",
     "evalue": "add_text.<locals>.wrapper() takes 2 positional arguments but 3 were given",
     "output_type": "error",
     "traceback": [
      "\u001b[0;31m---------------------------------------------------------------------------\u001b[0m",
      "\u001b[0;31mTypeError\u001b[0m                                 Traceback (most recent call last)",
      "\u001b[0;32m/tmp/ipykernel_1387006/69745384.py\u001b[0m in \u001b[0;36m<module>\u001b[0;34m\u001b[0m\n\u001b[1;32m     22\u001b[0m \u001b[0;34m\u001b[0m\u001b[0m\n\u001b[1;32m     23\u001b[0m \u001b[0mcalculator\u001b[0m\u001b[0;34m(\u001b[0m\u001b[0;36m1\u001b[0m\u001b[0;34m,\u001b[0m \u001b[0;36m2\u001b[0m\u001b[0;34m)\u001b[0m\u001b[0;34m\u001b[0m\u001b[0;34m\u001b[0m\u001b[0m\n\u001b[0;32m---> 24\u001b[0;31m \u001b[0mcalculator2\u001b[0m\u001b[0;34m(\u001b[0m\u001b[0;36m1\u001b[0m\u001b[0;34m,\u001b[0m \u001b[0;36m2\u001b[0m\u001b[0;34m,\u001b[0m \u001b[0;34m'+'\u001b[0m\u001b[0;34m)\u001b[0m\u001b[0;34m\u001b[0m\u001b[0;34m\u001b[0m\u001b[0m\n\u001b[0m",
      "\u001b[0;31mTypeError\u001b[0m: add_text.<locals>.wrapper() takes 2 positional arguments but 3 were given"
     ]
    }
   ],
   "source": [
    "def add_text(func):\n",
    "\n",
    "    def wrapper(x, y):\n",
    "        print('before')\n",
    "        result = func(x, y)\n",
    "        print('after')\n",
    "        return result\n",
    "\n",
    "    return wrapper\n",
    "\n",
    "@add_text\n",
    "def calculator(x, y):\n",
    "    print(x * y)\n",
    "\n",
    "\n",
    "@add_text\n",
    "def calculator2(x, y, sign):\n",
    "    if sign == '*':\n",
    "        return x * y\n",
    "    elif sign == '+':\n",
    "        return x + y\n",
    "\n",
    "calculator(1, 2)\n",
    "calculator2(1, 2, '+')"
   ]
  },
  {
   "attachments": {},
   "cell_type": "markdown",
   "metadata": {},
   "source": [
    "Если мы делаем какой-то универсальный декоратор, то в функцию-обертку нам нужно добавить *args - тогда эта функция сможет работать с любой функцией, с любым количеством аргументов."
   ]
  },
  {
   "cell_type": "code",
   "execution_count": 39,
   "metadata": {},
   "outputs": [
    {
     "name": "stdout",
     "output_type": "stream",
     "text": [
      "before\n",
      "2\n",
      "after\n",
      "before\n",
      "3\n",
      "after\n"
     ]
    }
   ],
   "source": [
    "def add_text(func):\n",
    "\n",
    "    def wrapper(*args):\n",
    "        print('before')\n",
    "        result = func(*args)\n",
    "        print('after')\n",
    "        return result\n",
    "\n",
    "    return wrapper\n",
    "\n",
    "@add_text\n",
    "def calculator(x, y):\n",
    "    print(x * y)\n",
    "\n",
    "\n",
    "@add_text\n",
    "def calculator2(x, y, sign):\n",
    "    if sign == '*':\n",
    "        print(x * y)\n",
    "    elif sign == '+':\n",
    "        print(x + y)\n",
    "\n",
    "calculator(1, 2)\n",
    "calculator2(1, 2, '+')"
   ]
  },
  {
   "attachments": {},
   "cell_type": "markdown",
   "metadata": {},
   "source": [
    "# List comprehension"
   ]
  },
  {
   "cell_type": "code",
   "execution_count": 54,
   "metadata": {},
   "outputs": [
    {
     "name": "stdout",
     "output_type": "stream",
     "text": [
      "[2, 4, 6, 8, 10]\n",
      "(2, 4, 6, 8, 10)\n",
      "[('USA', 23), ('Hawaii', 33), ('Cuba', 35), ('qwer', -1)]\n",
      "{'USA': 23, 'Hawaii': 33, 'Cuba': 35, 'qwer': -1}\n",
      "{'USA': 23, 'Hawaii': 33, 'Cuba': 35}\n"
     ]
    }
   ],
   "source": [
    "my_list = [1, 2, 3, 4, 5, 6, 7, 8, 10]\n",
    "\n",
    "new_list = []\n",
    "for x in my_list:\n",
    "    if x % 2 == 0:\n",
    "        new_list.append(x)\n",
    "\n",
    "\n",
    "new_list = [x for x in my_list if x % 2 == 0]\n",
    "print(new_list)\n",
    "new_tuple = tuple(x for x in my_list if x % 2 == 0)\n",
    "print(new_tuple)\n",
    "\n",
    "countries = ['USA', 'Hawaii', 'Cuba', 'qwer']\n",
    "temps = [23, 33, 35, -1]\n",
    "pairs = zip(countries, temps)\n",
    "pairs_list = list(pairs)\n",
    "print(pairs_list)\n",
    "print(dict(pairs_list))\n",
    "\n",
    "\n",
    "my_dict = {k: v for k, v in zip(countries, temps) if k not in ['qwer','asdf']}\n",
    "print(my_dict)"
   ]
  },
  {
   "cell_type": "code",
   "execution_count": 58,
   "metadata": {},
   "outputs": [
    {
     "name": "stdout",
     "output_type": "stream",
     "text": [
      "running function simple\n",
      "simple\n",
      "finished\n",
      "running function calc\n",
      "4\n",
      "finished\n",
      "running function calc2\n",
      "finished\n"
     ]
    },
    {
     "ename": "TypeError",
     "evalue": "add_text.<locals>.wrapper() takes 0 positional arguments but 2 were given",
     "output_type": "error",
     "traceback": [
      "\u001b[0;31m---------------------------------------------------------------------------\u001b[0m",
      "\u001b[0;31mTypeError\u001b[0m                                 Traceback (most recent call last)",
      "\u001b[0;32m/tmp/ipykernel_1387006/1770638956.py\u001b[0m in \u001b[0;36m<module>\u001b[0;34m\u001b[0m\n\u001b[1;32m     28\u001b[0m \u001b[0mcalc\u001b[0m\u001b[0;34m(\u001b[0m\u001b[0;34m)\u001b[0m\u001b[0;34m\u001b[0m\u001b[0;34m\u001b[0m\u001b[0m\n\u001b[1;32m     29\u001b[0m \u001b[0mcalc2\u001b[0m\u001b[0;34m(\u001b[0m\u001b[0;34m)\u001b[0m\u001b[0;34m\u001b[0m\u001b[0;34m\u001b[0m\u001b[0m\n\u001b[0;32m---> 30\u001b[0;31m \u001b[0mcalculator\u001b[0m\u001b[0;34m(\u001b[0m\u001b[0;36m1\u001b[0m\u001b[0;34m,\u001b[0m \u001b[0;36m2\u001b[0m\u001b[0;34m)\u001b[0m\u001b[0;34m\u001b[0m\u001b[0;34m\u001b[0m\u001b[0m\n\u001b[0m",
      "\u001b[0;31mTypeError\u001b[0m: add_text.<locals>.wrapper() takes 0 positional arguments but 2 were given"
     ]
    }
   ],
   "source": [
    "def add_text(func):\n",
    "\n",
    "    def wrapper():\n",
    "        print(f'running function {func.__name__}')\n",
    "        x = func()\n",
    "        print('finished')\n",
    "        return x\n",
    "\n",
    "    return wrapper\n",
    "\n",
    "@add_text\n",
    "def simple():\n",
    "    print('simple')\n",
    "\n",
    "@add_text\n",
    "def calc():\n",
    "    print(1 + 3)\n",
    "\n",
    "@add_text\n",
    "def calc2():\n",
    "    return 1 + 2\n",
    "\n",
    "@add_text\n",
    "def calculator(x, y):\n",
    "    print(x * y)\n",
    "\n",
    "simple()\n",
    "calc()\n",
    "calc2()\n",
    "calculator(1, 2)"
   ]
  }
 ],
 "metadata": {
  "kernelspec": {
   "display_name": "Python 3",
   "language": "python",
   "name": "python3"
  },
  "language_info": {
   "codemirror_mode": {
    "name": "ipython",
    "version": 3
   },
   "file_extension": ".py",
   "mimetype": "text/x-python",
   "name": "python",
   "nbconvert_exporter": "python",
   "pygments_lexer": "ipython3",
   "version": "3.10.6"
  },
  "orig_nbformat": 4
 },
 "nbformat": 4,
 "nbformat_minor": 2
}
