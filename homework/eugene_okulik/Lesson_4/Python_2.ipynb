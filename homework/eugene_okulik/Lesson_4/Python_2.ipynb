{
 "cells": [
  {
   "attachments": {},
   "cell_type": "markdown",
   "metadata": {},
   "source": [
    "## Переменные в Python\n",
    "Переменная - это элемент, который хранит в себе какие либо данные.\n",
    "Если мы создали переменную, то она никогда не бывает абсолютно пустой. В ней может храниться, например, пустая строка. Тогда переменная хранит строку, которая пустая. И хранит ее до тех пор, пока программа не завершит работу."
   ]
  },
  {
   "attachments": {},
   "cell_type": "markdown",
   "metadata": {},
   "source": [
    "## Типы данных в Python\n",
    "Number (целое число)  \n",
    "String (строка)  \n",
    "Boolean (логический тип данных)  \n",
    "Float(числа с плавающей точкой)  \n",
    "List (список)  \n",
    "Dictionary (словарь)  \n",
    "Tuple (кортеж)  \n",
    "Set (множество)  \n",
    " "
   ]
  },
  {
   "attachments": {},
   "cell_type": "markdown",
   "metadata": {},
   "source": [
    "## List(списки)\n",
    "Python список - структура данных для хранения последовательностей.   \n",
    "Экземпляры значений, находящихся в списке, называются элементами списка."
   ]
  },
  {
   "cell_type": "code",
   "execution_count": 95,
   "metadata": {},
   "outputs": [
    {
     "name": "stdout",
     "output_type": "stream",
     "text": [
      "7\n",
      "1\n",
      "2.42\n",
      "text\n",
      "[1, 3, 6, 42, None, 'text', False, 2.42]\n"
     ]
    }
   ],
   "source": [
    "my_list = [1, 3, 6, 7, None, 'text', False, 2.42]\n",
    "print(my_list[3])  # получение элемента из списка с помощью его идентификатора\n",
    "print(my_list[0])\n",
    "print(my_list[-1])  # получение последнего элемента списка\n",
    "print(my_list[-3])\n",
    "my_list[3] = 42  # изменение четвертого элемента списка\n",
    "print(my_list)"
   ]
  },
  {
   "cell_type": "code",
   "execution_count": 92,
   "metadata": {},
   "outputs": [
    {
     "name": "stdout",
     "output_type": "stream",
     "text": [
      "['text', 42]\n",
      "True\n",
      "2\n",
      "True\n",
      "False\n"
     ]
    }
   ],
   "source": [
    "my_list = []  # создание пустого списка\n",
    "my_list = list()  # тоже создание пустого списка\n",
    "my_list.append('text')  # добавление в конец списка нового элемента\n",
    "my_list.append(False)\n",
    "my_list.append(42)\n",
    "\n",
    "my_list[1] = True\n",
    "true_index = my_list.index(True)  # поиск на какой позиции в списке находится элемент со значением True\n",
    "poped = my_list.pop(true_index)  # удаление из списка элемента по его ID и сохранение удаленного элемента в переменную\n",
    "print(my_list)\n",
    "print(poped)\n",
    "\n",
    "print(len(my_list))  # получение размера (количества элементов) списка\n",
    "\n",
    "print(42 in my_list)  # проверка есть ли искомый элемент в списке\n",
    "print(42 not in my_list)"
   ]
  },
  {
   "attachments": {},
   "cell_type": "markdown",
   "metadata": {},
   "source": [
    "## Tuple(кортежи)\n",
    "Хранят данные различных типов  \n",
    "Неизменяемы  \n",
    "Занимают меньший размер  \n",
    "Оптимизируются интепретатором   \n",
    "По поведению похожи на списки. Главное отличие - нет функций, позволяющих что-то добавить в кортеж или изменить внутри него"
   ]
  },
  {
   "cell_type": "code",
   "execution_count": 94,
   "metadata": {},
   "outputs": [
    {
     "name": "stdout",
     "output_type": "stream",
     "text": [
      "5\n",
      "2.42\n"
     ]
    }
   ],
   "source": [
    "my_tuple = (1, 3, 5, 'text', False, 2.42)\n",
    "print(my_tuple[2])\n",
    "# my_tuple[2] = 42  - эта штука вернет ошибку, т.к. внутри кортежа нельзя ничего изменять\n",
    "print(my_tuple[-1])\n"
   ]
  },
  {
   "cell_type": "code",
   "execution_count": 93,
   "metadata": {},
   "outputs": [
    {
     "name": "stdout",
     "output_type": "stream",
     "text": [
      "(1, 5, 1, 1)\n",
      "1\n",
      "3\n"
     ]
    }
   ],
   "source": [
    "my_tuple = ()\n",
    "my_tuple = tuple()\n",
    "my_tuple = (1, 5, 1, 1)\n",
    "print(my_tuple)\n",
    "print(my_tuple.index(5))\n",
    "print(my_tuple.count(1))\n"
   ]
  },
  {
   "attachments": {},
   "cell_type": "markdown",
   "metadata": {},
   "source": [
    "Кортеж, состоящий из одного элемента"
   ]
  },
  {
   "cell_type": "code",
   "execution_count": null,
   "metadata": {},
   "outputs": [],
   "source": [
    "a = (5) # это цифра в скобках\n",
    "one_el_list = [5]\n",
    "one_el_set = {5}\n",
    "one_el_tuple = (5, )  #  это кортеж с одним элементом"
   ]
  },
  {
   "attachments": {},
   "cell_type": "markdown",
   "metadata": {},
   "source": [
    "неизменяемость"
   ]
  },
  {
   "cell_type": "code",
   "execution_count": 22,
   "metadata": {},
   "outputs": [
    {
     "name": "stdout",
     "output_type": "stream",
     "text": [
      "textaa\n"
     ]
    }
   ],
   "source": [
    "text = 'text'\n",
    "text = text + 'a' # это перезаписывание, а не изменение\n",
    "text += 'a'\n",
    "print(text)"
   ]
  },
  {
   "attachments": {},
   "cell_type": "markdown",
   "metadata": {},
   "source": [
    "## Set(множества)\n",
    "Содержит в себе только неповторяющиеся элементы  \n",
    "Не гарантирует порядок элементов  \n",
    "Работа с ним тоже похожа на работу со списком  "
   ]
  },
  {
   "cell_type": "code",
   "execution_count": 91,
   "metadata": {},
   "outputs": [
    {
     "name": "stdout",
     "output_type": "stream",
     "text": [
      "{1, 2.42, 'text', 5, 'string'} False\n",
      "{2.42, 'text', 5, 'string'} 1\n",
      "{'text', 5, 'string'} 2.42\n",
      "3\n"
     ]
    }
   ],
   "source": [
    "my_set = {1, 2, 5, False, 'text', 2.42, 2, 5}\n",
    "my_set.add('string')\n",
    "my_set.add('text')\n",
    "my_set.remove(2)\n",
    "poped = my_set.pop()\n",
    "print(my_set, poped)\n",
    "poped = my_set.pop()\n",
    "print(my_set, poped)\n",
    "poped = my_set.pop()\n",
    "print(my_set, poped)\n",
    "# print(my_set[3]) - вернет ошибку, т.к. элементы внутри множества не имеют четкой позиции\n",
    "print(len(my_set))\n"
   ]
  },
  {
   "cell_type": "code",
   "execution_count": 51,
   "metadata": {},
   "outputs": [
    {
     "name": "stdout",
     "output_type": "stream",
     "text": [
      "[1, 2, 3, 5, 7]\n"
     ]
    }
   ],
   "source": [
    "lll = [1, 3, 5, 2, 5, 7 ,1, 3]\n",
    "unique = list(set(lll))  # способ превращения списка в список уникальных элементов. Здась два раза использовано преобразование типов: сначала в множество, потом в список\n",
    "print(unique)"
   ]
  },
  {
   "attachments": {},
   "cell_type": "markdown",
   "metadata": {},
   "source": [
    "## Dictionary(словари)\n",
    "Словари в Python - неупорядоченные коллекции произвольных объектов с доступом по ключу. Их иногда ещё называют ассоциативными массивами или хеш-таблицами.  \n",
    "  \n",
    "данные в словаре - это пары ключ: значение  \n",
    "доступ к значениям осуществляется по ключу, а не по номеру, как в списках  \n",
    "данные в словаре упорядочены по порядку добавления элементов  \n",
    "так как словари изменяемы, то элементы словаря можно менять, добавлять, удалять  \n",
    "ключ должен быть объектом неизменяемого типа: число, строка, кортеж  \n",
    "значение может быть данными любого типа  "
   ]
  },
  {
   "cell_type": "code",
   "execution_count": 90,
   "metadata": {},
   "outputs": [
    {
     "name": "stdout",
     "output_type": "stream",
     "text": [
      "value\n",
      "2\n",
      "{'one': 'value1', 'two': 'value2', 'three': 'value3', 'four': 4, 'five': False, 'six': None, 'seven': {1: 2, 3: 4}, 'eight': (1, 3), 'ten': [1, 3], 1: [1, 3], (1,): [1, 3]}\n",
      "dict_keys(['one', 'two', 'three', 'four', 'five', 'six', 'seven', 'eight', 'ten', 1, (1,)])\n",
      "dict_values(['value1', 'value2', 'value3', 4, False, None, {1: 2, 3: 4}, (1, 3), [1, 3], [1, 3], [1, 3]])\n",
      "dict_items([('one', 'value1'), ('two', 'value2'), ('three', 'value3'), ('four', 4), ('five', False), ('six', None), ('seven', {1: 2, 3: 4}), ('eight', (1, 3)), ('ten', [1, 3]), (1, [1, 3]), ((1,), [1, 3])])\n"
     ]
    }
   ],
   "source": [
    "my_dict = {}  # Создание пустого словаря\n",
    "my_dict = dict()  # тоже создание пустого словаря\n",
    "\n",
    "my_dict = {'one': 'value', 'two': 'value2'}\n",
    "print(my_dict['one'])\n",
    "print(len(my_dict))\n",
    "my_dict['three'] = 'value3'  # добавление в словарь новой пары ключ-значение\n",
    "my_dict['one'] = 'value1'  # изменение значения элемента с ключом 'one'\n",
    "my_dict['four'] = 4\n",
    "my_dict['five'] = False\n",
    "my_dict['six'] = None\n",
    "my_dict['seven'] = {1: 2, 3: 4}  # добавление словаря в качестве значения\n",
    "my_dict['eight'] = (1, 3)\n",
    "my_dict['ten'] = [1, 3]\n",
    "my_dict['ten'] = [1, 3]\n",
    "my_dict[1] = [1, 3]\n",
    "my_dict[(1,)] = [1, 3]\n",
    "\n",
    "print(my_dict)\n",
    "\n",
    "print(my_dict.keys())  # получение всех ключей словаря в виде списка\n",
    "print(my_dict.values())  # получение всех значений словаря в виде списка\n",
    "print(my_dict.items())  # получение всех пар ключ-значение в виде списка кортежей"
   ]
  },
  {
   "attachments": {},
   "cell_type": "markdown",
   "metadata": {},
   "source": [
    "### Распаковка\n",
    "Используется для того, чтобы распределить элементы коллекции (список, словарь, множество, кортеж) по отдельным переменным.  \n",
    "Используется только в ситуациях, когда вы наверняка знаете количество элементов, содержащихся в коллекции."
   ]
  },
  {
   "cell_type": "code",
   "execution_count": 63,
   "metadata": {},
   "outputs": [
    {
     "name": "stdout",
     "output_type": "stream",
     "text": [
      "1 3 1 3\n"
     ]
    }
   ],
   "source": [
    "my_list = [1, 3]\n",
    "a = my_list[0]\n",
    "b = my_list[1]\n",
    "c, d = my_list\n",
    "print(a, b, c, d)"
   ]
  },
  {
   "attachments": {},
   "cell_type": "markdown",
   "metadata": {},
   "source": [
    "### Срез  \n",
    "Извлечение среза позволяет взять из списка определенную его часть"
   ]
  },
  {
   "cell_type": "code",
   "execution_count": 89,
   "metadata": {},
   "outputs": [
    {
     "name": "stdout",
     "output_type": "stream",
     "text": [
      "[1, 3, 5]\n",
      "[1, 3, 5]\n",
      "[3, 5, 2]\n",
      "[3, 5, 2, 5, 7, 1, 3]\n",
      "[1, 3, 5, 2, 5, 7, 1, 3]\n",
      "[1, 3, 5, 2, 5, 7, 1]\n",
      "[1, 5, 5, 1]\n",
      "[3, 2, 7, 3]\n",
      "[1, 5, 5, 1]\n",
      "[3, 7, 2, 3]\n",
      "[3, 1, 7, 5, 2, 5, 3, 1]\n"
     ]
    }
   ],
   "source": [
    "lll = [1, 3, 5, 2, 5, 7 ,1, 3]\n",
    "print(lll[0: 3])  # получение из списка всех элементов от первого (0) до четвертого (3) не включительно\n",
    "print(lll[:3])  # Если извлечение происходит с первого элемента, то 0 можно не писать - это означает, что извлечение происходит с самого начала\n",
    "print(lll[1:4])\n",
    "print(lll[1:])\n",
    "print(lll[:])  # print(lll)\n",
    "print(lll[:-1])\n",
    "print(lll[::2])\n",
    "print(lll[1::2])  # получение каждого второго элемента, начиная с элемента с ID 1\n",
    "print(lll[6::-2])\n",
    "print(lll[::-2])\n",
    "print(lll[::-1])  # получение всех элементов наоборот (начиная с конца)"
   ]
  },
  {
   "attachments": {},
   "cell_type": "markdown",
   "metadata": {},
   "source": [
    "## Методы строк"
   ]
  },
  {
   "attachments": {},
   "cell_type": "markdown",
   "metadata": {},
   "source": [
    "Со строкой можно делать многое из того, что можно делать с другими коллекциями, т.к. строка это по сути тоже коллекция - последовательность символов. Больше всего функциональность строки похожа на функциональность кортежей."
   ]
  },
  {
   "cell_type": "code",
   "execution_count": 80,
   "metadata": {},
   "outputs": [
    {
     "name": "stdout",
     "output_type": "stream",
     "text": [
      "14\n",
      "y\n",
      "3\n",
      "2\n",
      "2\n",
      "long\n"
     ]
    }
   ],
   "source": [
    "text = 'my long string'\n",
    "print(len(text))\n",
    "print(text[1])\n",
    "print(text.index('l'))\n",
    "print(text.count('n'))\n",
    "print(text.count(' '))\n",
    "long_index = text.index('long')\n",
    "my_text = text[long_index: long_index + 4]\n",
    "print(my_text)"
   ]
  },
  {
   "cell_type": "code",
   "execution_count": 82,
   "metadata": {},
   "outputs": [
    {
     "name": "stdout",
     "output_type": "stream",
     "text": [
      "This text with messed up capitalization!\n",
      "This Text With Messed Up Capitalization!\n",
      "THIS TEXT WITH MESSED UP CAPITALIZATION!\n",
      "this text with messed up capitalization!\n"
     ]
    }
   ],
   "source": [
    "txt = \"ThIs tExt wiTh meSsEd uP CaPITalIZatiOn!\"\n",
    "print(txt.capitalize()) # Делает первую букву предложения заглавной\n",
    "print(txt.title())  # Делает каждую первую букву заглавной\n",
    "print(txt.upper())  # Делает все буквы большими\n",
    "print(txt.lower())  # Делает все буквы маленькими"
   ]
  },
  {
   "cell_type": "code",
   "execution_count": 88,
   "metadata": {},
   "outputs": [
    {
     "name": "stdout",
     "output_type": "stream",
     "text": [
      "Hello universe!\n",
      "\"word \"\n"
     ]
    }
   ],
   "source": [
    "msg = 'Hello world!'\n",
    "print(msg.replace('world', 'universe'))\n",
    "\n",
    "txt = ' word '\n",
    "# txt = txt.replace(' ', '')\n",
    "# txt = txt.strip()\n",
    "# txt = txt.rstrip()\n",
    "txt = txt.lstrip()\n",
    "print(f'\"{txt}\"')"
   ]
  }
 ],
 "metadata": {
  "kernelspec": {
   "display_name": "Python 3",
   "language": "python",
   "name": "python3"
  },
  "language_info": {
   "codemirror_mode": {
    "name": "ipython",
    "version": 3
   },
   "file_extension": ".py",
   "mimetype": "text/x-python",
   "name": "python",
   "nbconvert_exporter": "python",
   "pygments_lexer": "ipython3",
   "version": "3.10.6"
  },
  "orig_nbformat": 4
 },
 "nbformat": 4,
 "nbformat_minor": 2
}
