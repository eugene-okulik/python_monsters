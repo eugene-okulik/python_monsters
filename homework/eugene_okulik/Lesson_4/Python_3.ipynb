{
 "cells": [
  {
   "attachments": {},
   "cell_type": "markdown",
   "metadata": {},
   "source": [
    "# Строка ←→ список"
   ]
  },
  {
   "cell_type": "code",
   "execution_count": 6,
   "metadata": {},
   "outputs": [
    {
     "name": "stdout",
     "output_type": "stream",
     "text": [
      "['some', 'little', 'text']\n",
      "['some', 'little', 'text']\n",
      "one, two, three\n"
     ]
    }
   ],
   "source": [
    "my_string = 'some little text'\n",
    "my_string2 = 'some, little, text'\n",
    "my_list = ['one', 'two', 'three']\n",
    "list_from_text = my_string.split()\n",
    "print(list_from_text)\n",
    "list_from_text2 = my_string2.split(', ')\n",
    "print(list_from_text2)\n",
    "string_from_list = ', '.join(my_list)\n",
    "print(string_from_list)"
   ]
  },
  {
   "attachments": {},
   "cell_type": "markdown",
   "metadata": {},
   "source": [
    "# Форматирование строки"
   ]
  },
  {
   "cell_type": "code",
   "execution_count": 17,
   "metadata": {},
   "outputs": [
    {
     "name": "stdout",
     "output_type": "stream",
     "text": [
      "first word is one second word is two\n",
      "first word is one!\n",
      "first word is one!\n",
      "first word is four, second word is three\n",
      "first word is one, second word is two\n",
      "first word is one, second word is two\n"
     ]
    }
   ],
   "source": [
    "a = 'one'\n",
    "b = 'two'\n",
    "my_text = 'first word is ' + a + ' second word is ' + b\n",
    "print(my_text)\n",
    "text1 = 'first word is %s!'\n",
    "print(text1 % a)\n",
    "\n",
    "text2 = 'first word is {}!'   # String format\n",
    "print(text2.format(a))\n",
    "\n",
    "text3 = 'first word is {1}, second word is {0}'\n",
    "c, d = 'three', 'four'\n",
    "print(text3.format(c, d))\n",
    "\n",
    "text4 = 'first word is {0}, second word is {1}'.format(a, b)\n",
    "print(text4)\n",
    "\n",
    "text5 = f'first word is {a}, second word is {b}'\n",
    "print(text5)\n",
    "\n"
   ]
  },
  {
   "attachments": {},
   "cell_type": "markdown",
   "metadata": {},
   "source": [
    "# Условия"
   ]
  },
  {
   "cell_type": "code",
   "execution_count": 27,
   "metadata": {},
   "outputs": [
    {
     "name": "stdout",
     "output_type": "stream",
     "text": [
      "Много\n"
     ]
    }
   ],
   "source": [
    "many = 3\n",
    "user_input = int(input('your positive number: '))\n",
    "if user_input == 1:\n",
    "    print('Один')\n",
    "elif user_input == 2: # else if\n",
    "    print('Два')\n",
    "else:\n",
    "    print('Много')\n",
    "\n"
   ]
  },
  {
   "cell_type": "code",
   "execution_count": 28,
   "metadata": {},
   "outputs": [
    {
     "name": "stdout",
     "output_type": "stream",
     "text": [
      "Один\n",
      "Много\n"
     ]
    }
   ],
   "source": [
    "user_input = int(input('your positive number: '))\n",
    "if user_input == 1:\n",
    "    print('Один')\n",
    "if user_input == 2: # else if\n",
    "    print('Два')\n",
    "else:\n",
    "    print('Много')"
   ]
  },
  {
   "cell_type": "code",
   "execution_count": 30,
   "metadata": {},
   "outputs": [
    {
     "name": "stdout",
     "output_type": "stream",
     "text": [
      "Много\n"
     ]
    }
   ],
   "source": [
    "day = 'егу'\n",
    "user_input = int(input('your positive number: '))\n",
    "if user_input == 1:\n",
    "    print('Один')\n",
    "elif user_input == 2: # else if\n",
    "    print('Два')\n",
    "else:\n",
    "    if day == 'mon':\n",
    "        print('Огого')\n",
    "    else:\n",
    "        print('Много')"
   ]
  },
  {
   "attachments": {},
   "cell_type": "markdown",
   "metadata": {},
   "source": [
    "# Цикл for"
   ]
  },
  {
   "cell_type": "code",
   "execution_count": 34,
   "metadata": {},
   "outputs": [
    {
     "name": "stdout",
     "output_type": "stream",
     "text": [
      "Tom\n",
      "['Lorem', 'ipsum', 'dolor', 'sit', 'amet,', 'consectetur']\n"
     ]
    }
   ],
   "source": [
    "my_list = ['John', 'Tom', 'James']\n",
    "print(my_list[1])\n",
    "\n",
    "file_text = open('text_copy.txt', 'r').read()\n",
    "\n",
    "file_to_list = file_text.split()\n",
    "print(file_to_list)\n",
    "\n"
   ]
  },
  {
   "cell_type": "code",
   "execution_count": 36,
   "metadata": {},
   "outputs": [
    {
     "name": "stdout",
     "output_type": "stream",
     "text": [
      "J\n",
      "T\n",
      "J\n"
     ]
    }
   ],
   "source": [
    "my_list = ['John', 'Tom', 'James']\n",
    "\n",
    "for name in my_list:\n",
    "    print(name[:1])"
   ]
  },
  {
   "cell_type": "code",
   "execution_count": 37,
   "metadata": {},
   "outputs": [
    {
     "name": "stdout",
     "output_type": "stream",
     "text": [
      "4\n"
     ]
    }
   ],
   "source": [
    "file_text = open('text.txt', 'r').read()\n",
    "file_to_list = file_text.split()\n",
    "\n",
    "result = 0\n",
    "for word in file_to_list:\n",
    "    if len(word) == 4:\n",
    "        result += 1  # result = result + 1\n",
    "\n",
    "print(result)\n"
   ]
  },
  {
   "cell_type": "code",
   "execution_count": 38,
   "metadata": {},
   "outputs": [
    {
     "name": "stdout",
     "output_type": "stream",
     "text": [
      "J\n",
      "T\n",
      "J\n"
     ]
    }
   ],
   "source": [
    "my_tuple = ('John', 'Tom', 'James')\n",
    "\n",
    "for name in my_tuple:\n",
    "    print(name[:1])"
   ]
  },
  {
   "cell_type": "code",
   "execution_count": 39,
   "metadata": {},
   "outputs": [
    {
     "name": "stdout",
     "output_type": "stream",
     "text": [
      "J\n",
      "J\n",
      "T\n"
     ]
    }
   ],
   "source": [
    "my_set = {'John', 'Tom', 'James'}\n",
    "\n",
    "for name in my_set:\n",
    "    print(name[:1])"
   ]
  },
  {
   "cell_type": "code",
   "execution_count": 40,
   "metadata": {},
   "outputs": [
    {
     "name": "stdout",
     "output_type": "stream",
     "text": [
      "John\n",
      "Tom\n",
      "James\n"
     ]
    }
   ],
   "source": [
    "my_dict = {'John': 132, 'Tom': 167, 'James': 234}\n",
    "\n",
    "for x in my_dict:\n",
    "    print(x)"
   ]
  },
  {
   "cell_type": "code",
   "execution_count": 41,
   "metadata": {},
   "outputs": [
    {
     "name": "stdout",
     "output_type": "stream",
     "text": [
      "John\n",
      "Tom\n",
      "James\n"
     ]
    }
   ],
   "source": [
    "my_dict = {'John': 132, 'Tom': 167, 'James': 234}\n",
    "\n",
    "for x in my_dict.keys():\n",
    "    print(x)"
   ]
  },
  {
   "cell_type": "code",
   "execution_count": 42,
   "metadata": {},
   "outputs": [
    {
     "name": "stdout",
     "output_type": "stream",
     "text": [
      "132\n",
      "167\n",
      "234\n"
     ]
    }
   ],
   "source": [
    "my_dict = {'John': 132, 'Tom': 167, 'James': 234}\n",
    "\n",
    "for x in my_dict.values():\n",
    "    print(x)"
   ]
  },
  {
   "cell_type": "code",
   "execution_count": 44,
   "metadata": {},
   "outputs": [
    {
     "name": "stdout",
     "output_type": "stream",
     "text": [
      "John 132\n",
      "Tom 167\n",
      "James 234\n"
     ]
    }
   ],
   "source": [
    "my_dict = {'John': 132, 'Tom': 167, 'James': 234}\n",
    "\n",
    "for name in my_dict:\n",
    "    print(name, my_dict[name])"
   ]
  },
  {
   "cell_type": "code",
   "execution_count": 46,
   "metadata": {},
   "outputs": [
    {
     "name": "stdout",
     "output_type": "stream",
     "text": [
      "dict_items([('John', 132), ('Tom', 167), ('James', 234)])\n",
      "My name is John, my height is 132\n",
      "My name is Tom, my height is 167\n",
      "My name is James, my height is 234\n"
     ]
    }
   ],
   "source": [
    "my_dict = {'John': 132, 'Tom': 167, 'James': 234}\n",
    "print(my_dict.items())\n",
    "for name, height in my_dict.items():\n",
    "    print(f'My name is {name}, my height is {height}')\n",
    "    "
   ]
  },
  {
   "attachments": {},
   "cell_type": "markdown",
   "metadata": {},
   "source": [
    "# Цикл while"
   ]
  },
  {
   "cell_type": "code",
   "execution_count": 48,
   "metadata": {},
   "outputs": [
    {
     "name": "stdout",
     "output_type": "stream",
     "text": [
      "True\n",
      "False\n"
     ]
    }
   ],
   "source": [
    "user_input = 1\n",
    "print(user_input == 1)\n",
    "print(user_input == 2)"
   ]
  },
  {
   "cell_type": "code",
   "execution_count": 49,
   "metadata": {},
   "outputs": [
    {
     "name": "stdout",
     "output_type": "stream",
     "text": [
      "0\n",
      "1\n",
      "2\n",
      "3\n",
      "4\n",
      "5\n",
      "6\n",
      "7\n",
      "8\n",
      "9\n"
     ]
    }
   ],
   "source": [
    "i = 0\n",
    "\n",
    "while i < 10:\n",
    "    print(i)\n",
    "    i += 1"
   ]
  },
  {
   "cell_type": "code",
   "execution_count": 50,
   "metadata": {},
   "outputs": [
    {
     "name": "stdout",
     "output_type": "stream",
     "text": [
      "now 0\n",
      "next 1\n",
      "now 1\n",
      "next 2\n",
      "now 2\n",
      "next 3\n",
      "now 3\n",
      "next 4\n",
      "now 4\n",
      "next 5\n",
      "now 5\n",
      "next 6\n",
      "now 6\n",
      "next 7\n",
      "now 7\n",
      "next 8\n",
      "now 8\n",
      "next 9\n",
      "now 9\n"
     ]
    }
   ],
   "source": [
    "i = 0\n",
    "\n",
    "while True:\n",
    "    print('now', i)\n",
    "    i += 1\n",
    "    if i >= 10:\n",
    "        break\n",
    "    print('next', i)"
   ]
  },
  {
   "cell_type": "code",
   "execution_count": 52,
   "metadata": {},
   "outputs": [
    {
     "name": "stdout",
     "output_type": "stream",
     "text": [
      "now 0\n",
      "next 1\n",
      "now 1\n",
      "now 2\n",
      "next 3\n",
      "now 3\n",
      "now 4\n",
      "next 5\n",
      "now 5\n",
      "now 6\n",
      "next 7\n",
      "now 7\n",
      "now 8\n",
      "next 9\n",
      "now 9\n",
      "now 10\n"
     ]
    }
   ],
   "source": [
    "i = 0\n",
    "\n",
    "while True:\n",
    "    print('now', i)\n",
    "    i += 1\n",
    "    if i % 2 == 0:\n",
    "        continue\n",
    "    if i >= 10:\n",
    "        break\n",
    "    print('next', i)"
   ]
  }
 ],
 "metadata": {
  "kernelspec": {
   "display_name": "Python 3",
   "language": "python",
   "name": "python3"
  },
  "language_info": {
   "codemirror_mode": {
    "name": "ipython",
    "version": 3
   },
   "file_extension": ".py",
   "mimetype": "text/x-python",
   "name": "python",
   "nbconvert_exporter": "python",
   "pygments_lexer": "ipython3",
   "version": "3.10.6"
  },
  "orig_nbformat": 4,
  "vscode": {
   "interpreter": {
    "hash": "916dbcbb3f70747c44a77c7bcd40155683ae19c65e1c03b4aa3499c5328201f1"
   }
  }
 },
 "nbformat": 4,
 "nbformat_minor": 2
}
