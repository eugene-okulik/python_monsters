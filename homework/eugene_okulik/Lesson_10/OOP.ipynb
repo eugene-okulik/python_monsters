{
 "cells": [
  {
   "attachments": {},
   "cell_type": "markdown",
   "metadata": {},
   "source": [
    "# ООП - Объектно ориентированное программирование"
   ]
  },
  {
   "attachments": {},
   "cell_type": "markdown",
   "metadata": {},
   "source": [
    "## Приципы ООП:\n",
    "- Инкапсуляция\n",
    "- Наследование\n",
    "- Полиморфизм"
   ]
  },
  {
   "attachments": {},
   "cell_type": "markdown",
   "metadata": {},
   "source": [
    "## Инкапсуляция\n",
    "Все данные объекта должны хранится в объекте. Никто не может изменить данные объекта без его ведома."
   ]
  },
  {
   "attachments": {},
   "cell_type": "markdown",
   "metadata": {},
   "source": [
    "## Наследование\n",
    "Объекты и их типы организуют иерархию типов. Дочерние типы наследуют свою функциональность от родительского класса, расширяя и дополняя её."
   ]
  },
  {
   "attachments": {},
   "cell_type": "markdown",
   "metadata": {},
   "source": [
    "## Полиморфизм\n",
    "Способность классов менять своё поведение в зависимости от типов операций и операндов. Полиморфизм в программировании реализуется через перегрузку метода, либо через его переопределение."
   ]
  },
  {
   "cell_type": "code",
   "execution_count": 56,
   "metadata": {},
   "outputs": [
    {
     "data": {
      "text/plain": [
       "{'Country': 'Greece', 'avg_temp': 28}"
      ]
     },
     "execution_count": 56,
     "metadata": {},
     "output_type": "execute_result"
    }
   ],
   "source": [
    "# data1.txt\n",
    "{\"Country\": \"Turkey\", \"avg_temp\": 30}\n",
    "# data2.txt\n",
    "{\"Country\": \"Greece\", \"avg_temp\": 28}"
   ]
  },
  {
   "cell_type": "code",
   "execution_count": 57,
   "metadata": {},
   "outputs": [
    {
     "name": "stdout",
     "output_type": "stream",
     "text": [
      "30\n",
      "28\n",
      "Greece\n"
     ]
    }
   ],
   "source": [
    "import json\n",
    "\n",
    "\n",
    "def read_file(filename):\n",
    "    with open(filename, 'r') as data1_file:\n",
    "        return json.load(data1_file)\n",
    "\n",
    "data1_content = read_file('data1.txt')\n",
    "data2_content = read_file('data2.txt')\n",
    "print(data1_content['avg_temp'])\n",
    "print(data2_content['avg_temp'])\n",
    "print(data2_content['Country'])"
   ]
  },
  {
   "cell_type": "code",
   "execution_count": 58,
   "metadata": {},
   "outputs": [
    {
     "name": "stdout",
     "output_type": "stream",
     "text": [
      "Turkey\n",
      "30\n",
      "3\n"
     ]
    }
   ],
   "source": [
    "class CountryData:\n",
    "    def __init__(self, filename) -> None:\n",
    "        self.__filename = filename\n",
    "        self.__content = self.__read_file()\n",
    "        self.__country = self.__content['Country']\n",
    "        self.__avg_temp = self.__content['avg_temp']\n",
    "\n",
    "    def __read_file(self):\n",
    "        with open(self.__filename, 'r') as data_file:\n",
    "            return json.load(data_file)\n",
    "        \n",
    "    def __str__(self):\n",
    "        return f'Country:{self.__country}, avg_temp: {self.__avg_temp}'\n",
    "        \n",
    "    @property\n",
    "    def country(self):\n",
    "        return self.__country\n",
    "    \n",
    "    @property\n",
    "    def avg_temp(self):\n",
    "        return self.__avg_temp\n",
    "    \n",
    "    @avg_temp.setter\n",
    "    def avg_temp(self, value):\n",
    "        self.__avg_temp = value\n",
    "\n",
    "data1_content = CountryData('data1.txt')\n",
    "# data1_content.filename\n",
    "# data1_content.content['Country']\n",
    "# print(data1_content.country)\n",
    "# data2_content = CountryData('data2.txt')\n",
    "# print(data2_content.avg_temp)\n",
    "# data3_content = CountryData('data3.txt')\n",
    "# print(data3_content.country)\n",
    "# print(data3_content.avg_temp)\n",
    "# print(data3_content.content['min_temp'])\n",
    "print(data1_content.country)\n",
    "print(data1_content.avg_temp)\n",
    "data1_content.avg_temp = 3\n",
    "print(data1_content.avg_temp)\n"
   ]
  },
  {
   "cell_type": "code",
   "execution_count": 59,
   "metadata": {},
   "outputs": [
    {
     "data": {
      "text/plain": [
       "{'Country': 'Poland', 'avg_temp': 15, 'min_temp': 2}"
      ]
     },
     "execution_count": 59,
     "metadata": {},
     "output_type": "execute_result"
    }
   ],
   "source": [
    "# data3.txt\n",
    "{\"Country\": \"Poland\", \"avg_temp\": 15, \"min_temp\": 2}"
   ]
  },
  {
   "cell_type": "code",
   "execution_count": 64,
   "metadata": {},
   "outputs": [
    {
     "ename": "AttributeError",
     "evalue": "'CountryDataWithMinTemp' object has no attribute '_CountryDataWithMinTemp__avg_temp'",
     "output_type": "error",
     "traceback": [
      "\u001b[0;31m---------------------------------------------------------------------------\u001b[0m",
      "\u001b[0;31mAttributeError\u001b[0m                            Traceback (most recent call last)",
      "\u001b[0;32m/tmp/ipykernel_1859861/92831475.py\u001b[0m in \u001b[0;36m<module>\u001b[0;34m\u001b[0m\n\u001b[1;32m      8\u001b[0m         \u001b[0;32mreturn\u001b[0m \u001b[0;34m'high'\u001b[0m \u001b[0;32mif\u001b[0m \u001b[0mself\u001b[0m\u001b[0;34m.\u001b[0m\u001b[0m__avg_temp\u001b[0m \u001b[0;34m-\u001b[0m \u001b[0mself\u001b[0m\u001b[0;34m.\u001b[0m\u001b[0m__min_temp\u001b[0m \u001b[0;34m>\u001b[0m \u001b[0;36m10\u001b[0m \u001b[0;32melse\u001b[0m \u001b[0;34m'low'\u001b[0m\u001b[0;34m\u001b[0m\u001b[0;34m\u001b[0m\u001b[0m\n\u001b[1;32m      9\u001b[0m \u001b[0;34m\u001b[0m\u001b[0m\n\u001b[0;32m---> 10\u001b[0;31m \u001b[0mdata3_content\u001b[0m \u001b[0;34m=\u001b[0m \u001b[0mCountryDataWithMinTemp\u001b[0m\u001b[0;34m(\u001b[0m\u001b[0;34m'data3.txt'\u001b[0m\u001b[0;34m)\u001b[0m\u001b[0;34m\u001b[0m\u001b[0;34m\u001b[0m\u001b[0m\n\u001b[0m\u001b[1;32m     11\u001b[0m \u001b[0;31m# data3_content._min_temp\u001b[0m\u001b[0;34m\u001b[0m\u001b[0;34m\u001b[0m\u001b[0m\n\u001b[1;32m     12\u001b[0m \u001b[0;31m# print(data3_content.contrast_level)\u001b[0m\u001b[0;34m\u001b[0m\u001b[0;34m\u001b[0m\u001b[0m\n",
      "\u001b[0;32m/tmp/ipykernel_1859861/92831475.py\u001b[0m in \u001b[0;36m__init__\u001b[0;34m(self, filename)\u001b[0m\n\u001b[1;32m      3\u001b[0m         \u001b[0msuper\u001b[0m\u001b[0;34m(\u001b[0m\u001b[0;34m)\u001b[0m\u001b[0;34m.\u001b[0m\u001b[0m__init__\u001b[0m\u001b[0;34m(\u001b[0m\u001b[0mfilename\u001b[0m\u001b[0;34m)\u001b[0m\u001b[0;34m\u001b[0m\u001b[0;34m\u001b[0m\u001b[0m\n\u001b[1;32m      4\u001b[0m         \u001b[0;31m# self.__min_temp = self.__content['min_temp']\u001b[0m\u001b[0;34m\u001b[0m\u001b[0;34m\u001b[0m\u001b[0m\n\u001b[0;32m----> 5\u001b[0;31m         \u001b[0mself\u001b[0m\u001b[0;34m.\u001b[0m\u001b[0m__contrast_level\u001b[0m \u001b[0;34m=\u001b[0m \u001b[0mself\u001b[0m\u001b[0;34m.\u001b[0m\u001b[0m__contrast\u001b[0m\u001b[0;34m(\u001b[0m\u001b[0;34m)\u001b[0m\u001b[0;34m\u001b[0m\u001b[0;34m\u001b[0m\u001b[0m\n\u001b[0m\u001b[1;32m      6\u001b[0m \u001b[0;34m\u001b[0m\u001b[0m\n\u001b[1;32m      7\u001b[0m     \u001b[0;32mdef\u001b[0m \u001b[0m__contrast\u001b[0m\u001b[0;34m(\u001b[0m\u001b[0mself\u001b[0m\u001b[0;34m)\u001b[0m\u001b[0;34m:\u001b[0m\u001b[0;34m\u001b[0m\u001b[0;34m\u001b[0m\u001b[0m\n",
      "\u001b[0;32m/tmp/ipykernel_1859861/92831475.py\u001b[0m in \u001b[0;36m__contrast\u001b[0;34m(self)\u001b[0m\n\u001b[1;32m      6\u001b[0m \u001b[0;34m\u001b[0m\u001b[0m\n\u001b[1;32m      7\u001b[0m     \u001b[0;32mdef\u001b[0m \u001b[0m__contrast\u001b[0m\u001b[0;34m(\u001b[0m\u001b[0mself\u001b[0m\u001b[0;34m)\u001b[0m\u001b[0;34m:\u001b[0m\u001b[0;34m\u001b[0m\u001b[0;34m\u001b[0m\u001b[0m\n\u001b[0;32m----> 8\u001b[0;31m         \u001b[0;32mreturn\u001b[0m \u001b[0;34m'high'\u001b[0m \u001b[0;32mif\u001b[0m \u001b[0mself\u001b[0m\u001b[0;34m.\u001b[0m\u001b[0m__avg_temp\u001b[0m \u001b[0;34m-\u001b[0m \u001b[0mself\u001b[0m\u001b[0;34m.\u001b[0m\u001b[0m__min_temp\u001b[0m \u001b[0;34m>\u001b[0m \u001b[0;36m10\u001b[0m \u001b[0;32melse\u001b[0m \u001b[0;34m'low'\u001b[0m\u001b[0;34m\u001b[0m\u001b[0;34m\u001b[0m\u001b[0m\n\u001b[0m\u001b[1;32m      9\u001b[0m \u001b[0;34m\u001b[0m\u001b[0m\n\u001b[1;32m     10\u001b[0m \u001b[0mdata3_content\u001b[0m \u001b[0;34m=\u001b[0m \u001b[0mCountryDataWithMinTemp\u001b[0m\u001b[0;34m(\u001b[0m\u001b[0;34m'data3.txt'\u001b[0m\u001b[0;34m)\u001b[0m\u001b[0;34m\u001b[0m\u001b[0;34m\u001b[0m\u001b[0m\n",
      "\u001b[0;31mAttributeError\u001b[0m: 'CountryDataWithMinTemp' object has no attribute '_CountryDataWithMinTemp__avg_temp'"
     ]
    }
   ],
   "source": [
    "class CountryDataWithMinTemp(CountryData):\n",
    "    def __init__(self, filename) -> None:\n",
    "        super().__init__(filename)\n",
    "        self.__min_temp = self.__content['min_temp']\n",
    "        self.__contrast_level = self.__contrast()\n",
    "\n",
    "    def __contrast(self):\n",
    "        return 'high' if self.__avg_temp - self.__min_temp > 10 else 'low'\n",
    "\n",
    "data3_content = CountryDataWithMinTemp('data3.txt')\n",
    "# data3_content._min_temp\n",
    "# print(data3_content.contrast_level)\n",
    "# data3_content.avg_temp = 3\n",
    "# print(data3_content.__contrast_level)\n",
    "# print(data3_content.avg_temp - data3_content.min_temp)"
   ]
  },
  {
   "attachments": {},
   "cell_type": "markdown",
   "metadata": {},
   "source": [
    "Защита элементов класса двумя нижними подчеркиваниями делает невозможным использование этих элементов где либо, даже в дочерних классах. Поэтому, если предполагается, что доступ к элементам у дочерних классов должен быть, то такие элементы должны быть защищены одинарным подчеркиванием. Согласно конвенции (договоренности всех разработчиков), изменять и использовать элементы, защищенные нижним подчеркиванием нельзя."
   ]
  },
  {
   "cell_type": "code",
   "execution_count": 61,
   "metadata": {},
   "outputs": [
    {
     "name": "stdout",
     "output_type": "stream",
     "text": [
      "1\n",
      "Country:Turkey, avg_temp: 3\n"
     ]
    }
   ],
   "source": [
    "a = 1\n",
    "type(a)\n",
    "type(data3_content)\n",
    "print(a) #  === print(str(a))\n",
    "print(data1_content) #  === print(str(data1_content))"
   ]
  }
 ],
 "metadata": {
  "kernelspec": {
   "display_name": "Python 3",
   "language": "python",
   "name": "python3"
  },
  "language_info": {
   "codemirror_mode": {
    "name": "ipython",
    "version": 3
   },
   "file_extension": ".py",
   "mimetype": "text/x-python",
   "name": "python",
   "nbconvert_exporter": "python",
   "pygments_lexer": "ipython3",
   "version": "3.10.6"
  },
  "orig_nbformat": 4
 },
 "nbformat": 4,
 "nbformat_minor": 2
}
