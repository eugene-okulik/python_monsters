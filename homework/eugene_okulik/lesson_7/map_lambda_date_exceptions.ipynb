{
 "cells": [
  {
   "attachments": {},
   "cell_type": "markdown",
   "metadata": {},
   "source": [
    "# Map\n",
    "Применение операции к каждому элементу"
   ]
  },
  {
   "cell_type": "code",
   "execution_count": 1,
   "metadata": {},
   "outputs": [
    {
     "name": "stdout",
     "output_type": "stream",
     "text": [
      "[2, 4, 6, 8, 10]\n"
     ]
    }
   ],
   "source": [
    "my_list = [1, 2, 3, 4, 5]\n",
    "\n",
    "new_list = []\n",
    "for x in my_list:\n",
    "    new_list.append(x * 2)\n",
    "\n",
    "print(new_list)"
   ]
  },
  {
   "cell_type": "code",
   "execution_count": 7,
   "metadata": {},
   "outputs": [
    {
     "name": "stdout",
     "output_type": "stream",
     "text": [
      "[2, 4, 6, 8, 10]\n",
      "2\n",
      "4\n",
      "6\n",
      "8\n",
      "10\n",
      "2\n"
     ]
    }
   ],
   "source": [
    "def mult_by_2(x):\n",
    "    return x * 2\n",
    "\n",
    "new_list = list(map(mult_by_2, my_list)) # mult_by_2(1)\n",
    "print(new_list)\n",
    "for x in new_list:\n",
    "    print(x)\n",
    "\n",
    "print(new_list[0])"
   ]
  },
  {
   "attachments": {},
   "cell_type": "markdown",
   "metadata": {},
   "source": [
    "# Filter"
   ]
  },
  {
   "cell_type": "code",
   "execution_count": 8,
   "metadata": {},
   "outputs": [
    {
     "name": "stdout",
     "output_type": "stream",
     "text": [
      "[2, 4, 6, 8]\n"
     ]
    }
   ],
   "source": [
    "my_list2 = [1, 2, 3, 4, 5, 6, 7, 8]\n",
    "\n",
    "new_list2 = []\n",
    "for x in my_list2:\n",
    "    if x % 2 == 0:\n",
    "        new_list2.append(x)\n",
    "\n",
    "print(new_list2)"
   ]
  },
  {
   "cell_type": "code",
   "execution_count": 11,
   "metadata": {},
   "outputs": [
    {
     "name": "stdout",
     "output_type": "stream",
     "text": [
      "2\n",
      "4\n",
      "6\n",
      "8\n",
      "2\n",
      "4\n",
      "6\n",
      "8\n"
     ]
    }
   ],
   "source": [
    "my_list2 = [1, 2, 3, 4, 5, 6, 7, 8]\n",
    "\n",
    "def is_even(x):\n",
    "    return x % 2 == 0\n",
    "\n",
    "\n",
    "new_list2 = filter(is_even, my_list2)\n",
    "for x in new_list2:\n",
    "    print(x)\n",
    "\n",
    "new_list2 = filter(lambda x: x % 2 == 0, my_list2)\n",
    "\n",
    "for x in new_list2:\n",
    "    print(x)\n"
   ]
  },
  {
   "cell_type": "code",
   "execution_count": null,
   "metadata": {},
   "outputs": [],
   "source": [
    "\n",
    "is_even = lambda x: x % 2 == 0 #  Not recommended\n",
    "\n",
    "new_list2 = filter(is_even, my_list2)\n",
    "\n",
    "for x in new_list2:\n",
    "    print(x)"
   ]
  },
  {
   "cell_type": "code",
   "execution_count": 21,
   "metadata": {},
   "outputs": [
    {
     "name": "stdout",
     "output_type": "stream",
     "text": [
      "1\n",
      "2\n",
      "3\n",
      "{1: 4, 2: 10, 3: 21}\n"
     ]
    }
   ],
   "source": [
    "my_dict = {1: 4, 2: 5, 3: 7}\n",
    "\n",
    "new_dict = dict(map(lambda x: (x[0], x[0] * x [1]), my_dict.items()))\n",
    "for x in new_dict:\n",
    "    print(x)\n",
    "print(new_dict)"
   ]
  },
  {
   "cell_type": "code",
   "execution_count": 22,
   "metadata": {},
   "outputs": [
    {
     "data": {
      "text/plain": [
       "3"
      ]
     },
     "execution_count": 22,
     "metadata": {},
     "output_type": "execute_result"
    }
   ],
   "source": [
    "fff = lambda a, b: a + b\n",
    "\n",
    "fff(1, 2)"
   ]
  },
  {
   "cell_type": "code",
   "execution_count": 26,
   "metadata": {},
   "outputs": [
    {
     "name": "stdout",
     "output_type": "stream",
     "text": [
      "{1: 2, 3: 3, 4: 4}\n"
     ]
    }
   ],
   "source": [
    "new_dict = dict([[1, 2], [3, 3], [4, 4]])\n",
    "new_dict = dict([(1, 2), [3, 3], [4, 4]])\n",
    "print(new_dict)"
   ]
  },
  {
   "cell_type": "code",
   "execution_count": 27,
   "metadata": {},
   "outputs": [
    {
     "name": "stdout",
     "output_type": "stream",
     "text": [
      "{'first_key': 'I', 'second_key': 'Love', 'third_key': 'Python'}\n"
     ]
    }
   ],
   "source": [
    "new_dict3 = dict(first_key='I', second_key='Love', third_key='Python')\n",
    "new_dict3 = {'first_key': 'I', 'second_key': 'Love', 'third_key': 'Python'}\n",
    "print(new_dict3)"
   ]
  },
  {
   "attachments": {},
   "cell_type": "markdown",
   "metadata": {},
   "source": [
    "# Datetime"
   ]
  },
  {
   "cell_type": "code",
   "execution_count": 33,
   "metadata": {},
   "outputs": [
    {
     "name": "stdout",
     "output_type": "stream",
     "text": [
      "2023-06-05 20:26:14.229473\n",
      "5\n",
      "0\n",
      "2023\n",
      "1685985974.229473\n"
     ]
    }
   ],
   "source": [
    "import datetime\n",
    "\n",
    "\n",
    "time_now = datetime.datetime.now()\n",
    "print(time_now)\n",
    "print(time_now.day)\n",
    "print(time_now.weekday())\n",
    "print(time_now.year)\n",
    "print(time_now.timestamp())  # формат Unix timestamp"
   ]
  },
  {
   "cell_type": "code",
   "execution_count": 38,
   "metadata": {},
   "outputs": [
    {
     "name": "stdout",
     "output_type": "stream",
     "text": [
      "1950-06-05 00:00:00\n",
      "-617770800.0\n"
     ]
    }
   ],
   "source": [
    "easy_date = datetime.datetime(1950, 6, 5)\n",
    "print(easy_date)\n",
    "print(easy_date.timestamp())"
   ]
  },
  {
   "attachments": {},
   "cell_type": "markdown",
   "metadata": {},
   "source": [
    "https://docs.python.org/3/library/datetime.html#strftime-and-strptime-format-codes"
   ]
  },
  {
   "cell_type": "code",
   "execution_count": 46,
   "metadata": {},
   "outputs": [
    {
     "name": "stdout",
     "output_type": "stream",
     "text": [
      "2020-01-15 20:26:14.229473\n"
     ]
    }
   ],
   "source": [
    "my_time = '15-01-2020 20:26:14.229473'\n",
    "\n",
    "# python_date = datetime.datetime.fromisoformat(my_time)\n",
    "python_date = datetime.datetime.strptime(my_time, '%d-%m-%Y %H:%M:%S.%f')\n",
    "\n",
    "print(python_date)"
   ]
  },
  {
   "cell_type": "code",
   "execution_count": 42,
   "metadata": {},
   "outputs": [
    {
     "name": "stdout",
     "output_type": "stream",
     "text": [
      "15 of January of the year 20\n"
     ]
    }
   ],
   "source": [
    "print(python_date.strftime('%d of %B of the year %y'))"
   ]
  },
  {
   "cell_type": "code",
   "execution_count": 44,
   "metadata": {},
   "outputs": [
    {
     "ename": "ZeroDivisionError",
     "evalue": "division by zero",
     "output_type": "error",
     "traceback": [
      "\u001b[0;31m---------------------------------------------------------------------------\u001b[0m",
      "\u001b[0;31mZeroDivisionError\u001b[0m                         Traceback (most recent call last)",
      "\u001b[0;32m/tmp/ipykernel_1171654/289386644.py\u001b[0m in \u001b[0;36m<module>\u001b[0;34m\u001b[0m\n\u001b[1;32m      3\u001b[0m \u001b[0;34m\u001b[0m\u001b[0m\n\u001b[1;32m      4\u001b[0m \u001b[0;34m\u001b[0m\u001b[0m\n\u001b[0;32m----> 5\u001b[0;31m \u001b[0mcalc\u001b[0m\u001b[0;34m(\u001b[0m\u001b[0;36m1\u001b[0m\u001b[0;34m,\u001b[0m \u001b[0;36m0\u001b[0m\u001b[0;34m)\u001b[0m\u001b[0;34m\u001b[0m\u001b[0;34m\u001b[0m\u001b[0m\n\u001b[0m",
      "\u001b[0;32m/tmp/ipykernel_1171654/289386644.py\u001b[0m in \u001b[0;36mcalc\u001b[0;34m(x, y)\u001b[0m\n\u001b[1;32m      1\u001b[0m \u001b[0;32mdef\u001b[0m \u001b[0mcalc\u001b[0m\u001b[0;34m(\u001b[0m\u001b[0mx\u001b[0m\u001b[0;34m,\u001b[0m \u001b[0my\u001b[0m\u001b[0;34m)\u001b[0m\u001b[0;34m:\u001b[0m\u001b[0;34m\u001b[0m\u001b[0;34m\u001b[0m\u001b[0m\n\u001b[0;32m----> 2\u001b[0;31m     \u001b[0;32mreturn\u001b[0m \u001b[0mx\u001b[0m \u001b[0;34m/\u001b[0m \u001b[0my\u001b[0m\u001b[0;34m\u001b[0m\u001b[0;34m\u001b[0m\u001b[0m\n\u001b[0m\u001b[1;32m      3\u001b[0m \u001b[0;34m\u001b[0m\u001b[0m\n\u001b[1;32m      4\u001b[0m \u001b[0;34m\u001b[0m\u001b[0m\n\u001b[1;32m      5\u001b[0m \u001b[0mcalc\u001b[0m\u001b[0;34m(\u001b[0m\u001b[0;36m1\u001b[0m\u001b[0;34m,\u001b[0m \u001b[0;36m0\u001b[0m\u001b[0;34m)\u001b[0m\u001b[0;34m\u001b[0m\u001b[0;34m\u001b[0m\u001b[0m\n",
      "\u001b[0;31mZeroDivisionError\u001b[0m: division by zero"
     ]
    }
   ],
   "source": [
    "def calc(x, y):\n",
    "    return x / y\n",
    "\n",
    "\n",
    "calc(1, 0)"
   ]
  },
  {
   "cell_type": "code",
   "execution_count": 1,
   "metadata": {},
   "outputs": [
    {
     "name": "stdout",
     "output_type": "stream",
     "text": [
      "hello\n",
      "hello\n",
      "hello\n",
      "hello\n",
      "Finishing program\n"
     ]
    }
   ],
   "source": [
    "from time import sleep\n",
    "while True:\n",
    "    try:\n",
    "        print('hello')\n",
    "        sleep(1)\n",
    "    except KeyboardInterrupt:\n",
    "        print('Finishing program')\n",
    "        break\n"
   ]
  },
  {
   "cell_type": "code",
   "execution_count": 12,
   "metadata": {},
   "outputs": [
    {
     "name": "stdout",
     "output_type": "stream",
     "text": [
      "incorrect data\n",
      "incorrect data\n",
      "incorrect data\n",
      "3\n",
      "incorrect data\n",
      "incorrect data\n",
      "3\n",
      "incorrect data\n",
      "incorrect data\n",
      "3\n",
      "incorrect data\n",
      "incorrect data\n",
      "3\n",
      "incorrect data\n",
      "3\n",
      "incorrect data\n",
      "3\n",
      "5\n",
      "incorrect data\n",
      "incorrect data\n",
      "incorrect data\n",
      "3\n",
      "incorrect data\n",
      "incorrect data\n",
      "incorrect data\n",
      "3\n",
      "incorrect data\n",
      "incorrect data\n",
      "incorrect data\n",
      "incorrect data\n",
      "3\n",
      "incorrect data\n",
      "incorrect data\n",
      "incorrect data\n",
      "incorrect data\n",
      "incorrect data\n",
      "incorrect data\n",
      "incorrect data\n",
      "incorrect data\n",
      "incorrect data\n",
      "incorrect data\n",
      "5\n",
      "5\n",
      "3\n",
      "5\n",
      "Finishing program\n"
     ]
    }
   ],
   "source": [
    "from time import sleep\n",
    "from random import randrange\n",
    "while True:\n",
    "    x = randrange(1, 5)\n",
    "    y = randrange(0, 5)\n",
    "    try:\n",
    "        print(str(x / y)[3])\n",
    "        sleep(1)\n",
    "    except KeyboardInterrupt:\n",
    "        print('Finishing program')\n",
    "        break\n",
    "    except (ZeroDivisionError, IndexError):\n",
    "        print('incorrect data')"
   ]
  }
 ],
 "metadata": {
  "kernelspec": {
   "display_name": "Python 3",
   "language": "python",
   "name": "python3"
  },
  "language_info": {
   "codemirror_mode": {
    "name": "ipython",
    "version": 3
   },
   "file_extension": ".py",
   "mimetype": "text/x-python",
   "name": "python",
   "nbconvert_exporter": "python",
   "pygments_lexer": "ipython3",
   "version": "3.10.6"
  },
  "orig_nbformat": 4
 },
 "nbformat": 4,
 "nbformat_minor": 2
}
