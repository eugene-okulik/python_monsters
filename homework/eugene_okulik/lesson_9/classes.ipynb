{
 "cells": [
  {
   "attachments": {},
   "cell_type": "markdown",
   "metadata": {},
   "source": [
    "# Python Classes"
   ]
  },
  {
   "cell_type": "code",
   "execution_count": 47,
   "metadata": {},
   "outputs": [],
   "source": [
    "class Cat:\n",
    "    pows = 4\n",
    "    tail = True\n",
    "    fur = True\n",
    "    eyes = 2\n",
    "\n",
    "    def __init__(self, color, meow) -> None:\n",
    "        self.color = color\n",
    "        self.smear = self.smearability()\n",
    "        self.meow = meow\n",
    "        # self.pows = pows\n",
    "\n",
    "\n",
    "    def smearability(self):  # вымазываемость\n",
    "        if self.fur:\n",
    "            if self.color == 'black':\n",
    "                return 'low'\n",
    "            if self.color == 'white':\n",
    "                return 'high'\n",
    "            return 'medium'\n",
    "        return False\n",
    "        \n",
    "\n",
    "    def say(self):\n",
    "        print(self.meow)\n",
    "\n",
    "    def go(self):\n",
    "        raise NotImplementedError('Cat itself doesnt go, should be implemented is sub classes')\n",
    "\n"
   ]
  },
  {
   "cell_type": "code",
   "execution_count": 48,
   "metadata": {},
   "outputs": [],
   "source": [
    "class Sphinx(Cat):\n",
    "    hair_length = 'short'\n",
    "\n",
    "    def go(self):\n",
    "        print('Running')        \n",
    "\n",
    "\n",
    "class MainKun(Cat):\n",
    "    size = 'large'\n",
    "\n",
    "    def go(self):\n",
    "        print('running')\n",
    "\n",
    "\n",
    "class Persian(Cat):\n",
    "    hair_length = 'long'\n",
    "\n",
    "    def go(self):\n",
    "        print('walking')\n",
    "\n",
    "class Nemoy(Cat):\n",
    "    def go(self):\n",
    "        print('walking')\n",
    "\n",
    "    def say(self):\n",
    "        raise NotImplementedError('This cat cannot say anything')"
   ]
  },
  {
   "cell_type": "code",
   "execution_count": 51,
   "metadata": {},
   "outputs": [
    {
     "name": "stdout",
     "output_type": "stream",
     "text": [
      "4\n",
      "short\n",
      "True\n",
      "large\n",
      "aaaaa\n",
      "iiiii\n",
      "Running\n",
      "running\n",
      "walking\n",
      "vaska medium\n",
      "petka short\n",
      "<class 'int'>\n",
      "black\n",
      "grey\n",
      "low\n"
     ]
    }
   ],
   "source": [
    "vaska = Sphinx(color='black', meow='aaaaa')\n",
    "petka = Sphinx(color='grey', meow='oooo')\n",
    "murka = MainKun(color='white', meow='iiiii')\n",
    "persik = Persian(color='ginger', meow='mrmrmr')\n",
    "\n",
    "print(vaska.pows)\n",
    "print(vaska.hair_length)\n",
    "print(murka.tail)\n",
    "print(murka.size)\n",
    "vaska.say()\n",
    "murka.say()\n",
    "vaska.go()\n",
    "murka.go()\n",
    "persik.go()\n",
    "vaska.hair_length = 'medium'\n",
    "print('vaska', vaska.hair_length)\n",
    "print('petka', petka.hair_length)\n",
    "a = 1\n",
    "print(type(a))\n",
    "print(vaska.color)\n",
    "print(petka.color)\n",
    "print(vaska.smear)"
   ]
  },
  {
   "cell_type": "code",
   "execution_count": 50,
   "metadata": {},
   "outputs": [
    {
     "name": "stdout",
     "output_type": "stream",
     "text": [
      "white\n"
     ]
    }
   ],
   "source": [
    "vaska = {'color': 'white', 'pows': True}\n",
    "print(vaska['color'])\n",
    "def go():\n",
    "    print()"
   ]
  }
 ],
 "metadata": {
  "kernelspec": {
   "display_name": "Python 3",
   "language": "python",
   "name": "python3"
  },
  "language_info": {
   "codemirror_mode": {
    "name": "ipython",
    "version": 3
   },
   "file_extension": ".py",
   "mimetype": "text/x-python",
   "name": "python",
   "nbconvert_exporter": "python",
   "pygments_lexer": "ipython3",
   "version": "3.10.6"
  },
  "orig_nbformat": 4
 },
 "nbformat": 4,
 "nbformat_minor": 2
}
